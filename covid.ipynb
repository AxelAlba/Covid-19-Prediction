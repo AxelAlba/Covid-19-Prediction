{
 "cells": [
  {
   "cell_type": "code",
   "execution_count": 3,
   "metadata": {},
   "outputs": [],
   "source": [
    "import pandas as pd"
   ]
  },
  {
   "cell_type": "code",
   "execution_count": 4,
   "metadata": {},
   "outputs": [
    {
     "output_type": "execute_result",
     "data": {
      "text/plain": "  iso_code location        date  total_cases  new_cases  total_deaths  \\\n0      ABW    Aruba  2020-03-13            2          2             0   \n1      ABW    Aruba  2020-03-20            4          2             0   \n2      ABW    Aruba  2020-03-24           12          8             0   \n3      ABW    Aruba  2020-03-25           17          5             0   \n4      ABW    Aruba  2020-03-26           19          2             0   \n\n   new_deaths  total_cases_per_million  new_cases_per_million  \\\n0           0                   18.733                 18.733   \n1           0                   37.465                 18.733   \n2           0                  112.395                 74.930   \n3           0                  159.227                 46.831   \n4           0                  177.959                 18.733   \n\n   total_deaths_per_million  ...  aged_65_older  aged_70_older  \\\n0                       0.0  ...         13.085          7.452   \n1                       0.0  ...         13.085          7.452   \n2                       0.0  ...         13.085          7.452   \n3                       0.0  ...         13.085          7.452   \n4                       0.0  ...         13.085          7.452   \n\n   gdp_per_capita  extreme_poverty  cvd_death_rate  diabetes_prevalence  \\\n0       35973.781              NaN             NaN                11.62   \n1       35973.781              NaN             NaN                11.62   \n2       35973.781              NaN             NaN                11.62   \n3       35973.781              NaN             NaN                11.62   \n4       35973.781              NaN             NaN                11.62   \n\n   female_smokers male_smokers  handwashing_facilities  hospital_beds_per_100k  \n0             NaN          NaN                     NaN                     NaN  \n1             NaN          NaN                     NaN                     NaN  \n2             NaN          NaN                     NaN                     NaN  \n3             NaN          NaN                     NaN                     NaN  \n4             NaN          NaN                     NaN                     NaN  \n\n[5 rows x 32 columns]",
      "text/html": "<div>\n<style scoped>\n    .dataframe tbody tr th:only-of-type {\n        vertical-align: middle;\n    }\n\n    .dataframe tbody tr th {\n        vertical-align: top;\n    }\n\n    .dataframe thead th {\n        text-align: right;\n    }\n</style>\n<table border=\"1\" class=\"dataframe\">\n  <thead>\n    <tr style=\"text-align: right;\">\n      <th></th>\n      <th>iso_code</th>\n      <th>location</th>\n      <th>date</th>\n      <th>total_cases</th>\n      <th>new_cases</th>\n      <th>total_deaths</th>\n      <th>new_deaths</th>\n      <th>total_cases_per_million</th>\n      <th>new_cases_per_million</th>\n      <th>total_deaths_per_million</th>\n      <th>...</th>\n      <th>aged_65_older</th>\n      <th>aged_70_older</th>\n      <th>gdp_per_capita</th>\n      <th>extreme_poverty</th>\n      <th>cvd_death_rate</th>\n      <th>diabetes_prevalence</th>\n      <th>female_smokers</th>\n      <th>male_smokers</th>\n      <th>handwashing_facilities</th>\n      <th>hospital_beds_per_100k</th>\n    </tr>\n  </thead>\n  <tbody>\n    <tr>\n      <td>0</td>\n      <td>ABW</td>\n      <td>Aruba</td>\n      <td>2020-03-13</td>\n      <td>2</td>\n      <td>2</td>\n      <td>0</td>\n      <td>0</td>\n      <td>18.733</td>\n      <td>18.733</td>\n      <td>0.0</td>\n      <td>...</td>\n      <td>13.085</td>\n      <td>7.452</td>\n      <td>35973.781</td>\n      <td>NaN</td>\n      <td>NaN</td>\n      <td>11.62</td>\n      <td>NaN</td>\n      <td>NaN</td>\n      <td>NaN</td>\n      <td>NaN</td>\n    </tr>\n    <tr>\n      <td>1</td>\n      <td>ABW</td>\n      <td>Aruba</td>\n      <td>2020-03-20</td>\n      <td>4</td>\n      <td>2</td>\n      <td>0</td>\n      <td>0</td>\n      <td>37.465</td>\n      <td>18.733</td>\n      <td>0.0</td>\n      <td>...</td>\n      <td>13.085</td>\n      <td>7.452</td>\n      <td>35973.781</td>\n      <td>NaN</td>\n      <td>NaN</td>\n      <td>11.62</td>\n      <td>NaN</td>\n      <td>NaN</td>\n      <td>NaN</td>\n      <td>NaN</td>\n    </tr>\n    <tr>\n      <td>2</td>\n      <td>ABW</td>\n      <td>Aruba</td>\n      <td>2020-03-24</td>\n      <td>12</td>\n      <td>8</td>\n      <td>0</td>\n      <td>0</td>\n      <td>112.395</td>\n      <td>74.930</td>\n      <td>0.0</td>\n      <td>...</td>\n      <td>13.085</td>\n      <td>7.452</td>\n      <td>35973.781</td>\n      <td>NaN</td>\n      <td>NaN</td>\n      <td>11.62</td>\n      <td>NaN</td>\n      <td>NaN</td>\n      <td>NaN</td>\n      <td>NaN</td>\n    </tr>\n    <tr>\n      <td>3</td>\n      <td>ABW</td>\n      <td>Aruba</td>\n      <td>2020-03-25</td>\n      <td>17</td>\n      <td>5</td>\n      <td>0</td>\n      <td>0</td>\n      <td>159.227</td>\n      <td>46.831</td>\n      <td>0.0</td>\n      <td>...</td>\n      <td>13.085</td>\n      <td>7.452</td>\n      <td>35973.781</td>\n      <td>NaN</td>\n      <td>NaN</td>\n      <td>11.62</td>\n      <td>NaN</td>\n      <td>NaN</td>\n      <td>NaN</td>\n      <td>NaN</td>\n    </tr>\n    <tr>\n      <td>4</td>\n      <td>ABW</td>\n      <td>Aruba</td>\n      <td>2020-03-26</td>\n      <td>19</td>\n      <td>2</td>\n      <td>0</td>\n      <td>0</td>\n      <td>177.959</td>\n      <td>18.733</td>\n      <td>0.0</td>\n      <td>...</td>\n      <td>13.085</td>\n      <td>7.452</td>\n      <td>35973.781</td>\n      <td>NaN</td>\n      <td>NaN</td>\n      <td>11.62</td>\n      <td>NaN</td>\n      <td>NaN</td>\n      <td>NaN</td>\n      <td>NaN</td>\n    </tr>\n  </tbody>\n</table>\n<p>5 rows × 32 columns</p>\n</div>"
     },
     "metadata": {},
     "execution_count": 4
    }
   ],
   "source": [
    "#To have a grasp on what the data about covid looks like\n",
    "covid = pd.read_csv('owid-covid-data.csv')\n",
    "covid.head()"
   ]
  },
  {
   "cell_type": "code",
   "execution_count": 8,
   "metadata": {},
   "outputs": [
    {
     "output_type": "execute_result",
     "data": {
      "text/plain": "(21396, 32)"
     },
     "metadata": {},
     "execution_count": 8
    }
   ],
   "source": [
    "#To know how many rows and columns are we dealing with\n",
    "covid.shape"
   ]
  },
  {
   "cell_type": "code",
   "execution_count": 7,
   "metadata": {},
   "outputs": [
    {
     "output_type": "execute_result",
     "data": {
      "text/plain": "Index(['iso_code', 'location', 'date', 'total_cases', 'new_cases',\n       'total_deaths', 'new_deaths', 'total_cases_per_million',\n       'new_cases_per_million', 'total_deaths_per_million',\n       'new_deaths_per_million', 'total_tests', 'new_tests',\n       'total_tests_per_thousand', 'new_tests_per_thousand',\n       'new_tests_smoothed', 'new_tests_smoothed_per_thousand', 'tests_units',\n       'stringency_index', 'population', 'population_density', 'median_age',\n       'aged_65_older', 'aged_70_older', 'gdp_per_capita', 'extreme_poverty',\n       'cvd_death_rate', 'diabetes_prevalence', 'female_smokers',\n       'male_smokers', 'handwashing_facilities', 'hospital_beds_per_100k'],\n      dtype='object')"
     },
     "metadata": {},
     "execution_count": 7
    }
   ],
   "source": [
    "covid.columns"
   ]
  },
  {
   "cell_type": "code",
   "execution_count": 9,
   "metadata": {},
   "outputs": [
    {
     "output_type": "execute_result",
     "data": {
      "text/plain": "United Kingdom    155\nAustria           155\nNetherlands       155\nBelgium           155\nGreece            155\n                 ... \nYemen              54\nWestern Sahara     38\nTajikistan         33\nComoros            32\nLesotho            19\nName: location, Length: 212, dtype: int64"
     },
     "metadata": {},
     "execution_count": 9
    }
   ],
   "source": [
    "#what countries are included in this dataset and how many dates has been recorded?\n",
    "covid['location'].value_counts()"
   ]
  },
  {
   "cell_type": "code",
   "execution_count": null,
   "metadata": {},
   "outputs": [],
   "source": []
  }
 ],
 "metadata": {
  "language_info": {
   "codemirror_mode": {
    "name": "ipython",
    "version": 3
   },
   "file_extension": ".py",
   "mimetype": "text/x-python",
   "name": "python",
   "nbconvert_exporter": "python",
   "pygments_lexer": "ipython3",
   "version": "3.7.4-final"
  },
  "orig_nbformat": 2,
  "kernelspec": {
   "name": "python3",
   "display_name": "Python 3"
  }
 },
 "nbformat": 4,
 "nbformat_minor": 2
}