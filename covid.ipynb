{
 "cells": [
  {
   "cell_type": "code",
   "execution_count": 3,
   "metadata": {},
   "outputs": [],
   "source": [
    "import pandas as pd"
   ]
  },
  {
   "cell_type": "code",
   "execution_count": 4,
   "metadata": {},
   "outputs": [
    {
     "output_type": "execute_result",
     "data": {
      "text/plain": "  iso_code location        date  total_cases  new_cases  total_deaths  \\\n0      ABW    Aruba  2020-03-13            2          2             0   \n1      ABW    Aruba  2020-03-20            4          2             0   \n2      ABW    Aruba  2020-03-24           12          8             0   \n3      ABW    Aruba  2020-03-25           17          5             0   \n4      ABW    Aruba  2020-03-26           19          2             0   \n\n   new_deaths  total_cases_per_million  new_cases_per_million  \\\n0           0                   18.733                 18.733   \n1           0                   37.465                 18.733   \n2           0                  112.395                 74.930   \n3           0                  159.227                 46.831   \n4           0                  177.959                 18.733   \n\n   total_deaths_per_million  ...  aged_65_older  aged_70_older  \\\n0                       0.0  ...         13.085          7.452   \n1                       0.0  ...         13.085          7.452   \n2                       0.0  ...         13.085          7.452   \n3                       0.0  ...         13.085          7.452   \n4                       0.0  ...         13.085          7.452   \n\n   gdp_per_capita  extreme_poverty  cvd_death_rate  diabetes_prevalence  \\\n0       35973.781              NaN             NaN                11.62   \n1       35973.781              NaN             NaN                11.62   \n2       35973.781              NaN             NaN                11.62   \n3       35973.781              NaN             NaN                11.62   \n4       35973.781              NaN             NaN                11.62   \n\n   female_smokers male_smokers  handwashing_facilities  hospital_beds_per_100k  \n0             NaN          NaN                     NaN                     NaN  \n1             NaN          NaN                     NaN                     NaN  \n2             NaN          NaN                     NaN                     NaN  \n3             NaN          NaN                     NaN                     NaN  \n4             NaN          NaN                     NaN                     NaN  \n\n[5 rows x 32 columns]",
      "text/html": "<div>\n<style scoped>\n    .dataframe tbody tr th:only-of-type {\n        vertical-align: middle;\n    }\n\n    .dataframe tbody tr th {\n        vertical-align: top;\n    }\n\n    .dataframe thead th {\n        text-align: right;\n    }\n</style>\n<table border=\"1\" class=\"dataframe\">\n  <thead>\n    <tr style=\"text-align: right;\">\n      <th></th>\n      <th>iso_code</th>\n      <th>location</th>\n      <th>date</th>\n      <th>total_cases</th>\n      <th>new_cases</th>\n      <th>total_deaths</th>\n      <th>new_deaths</th>\n      <th>total_cases_per_million</th>\n      <th>new_cases_per_million</th>\n      <th>total_deaths_per_million</th>\n      <th>...</th>\n      <th>aged_65_older</th>\n      <th>aged_70_older</th>\n      <th>gdp_per_capita</th>\n      <th>extreme_poverty</th>\n      <th>cvd_death_rate</th>\n      <th>diabetes_prevalence</th>\n      <th>female_smokers</th>\n      <th>male_smokers</th>\n      <th>handwashing_facilities</th>\n      <th>hospital_beds_per_100k</th>\n    </tr>\n  </thead>\n  <tbody>\n    <tr>\n      <td>0</td>\n      <td>ABW</td>\n      <td>Aruba</td>\n      <td>2020-03-13</td>\n      <td>2</td>\n      <td>2</td>\n      <td>0</td>\n      <td>0</td>\n      <td>18.733</td>\n      <td>18.733</td>\n      <td>0.0</td>\n      <td>...</td>\n      <td>13.085</td>\n      <td>7.452</td>\n      <td>35973.781</td>\n      <td>NaN</td>\n      <td>NaN</td>\n      <td>11.62</td>\n      <td>NaN</td>\n      <td>NaN</td>\n      <td>NaN</td>\n      <td>NaN</td>\n    </tr>\n    <tr>\n      <td>1</td>\n      <td>ABW</td>\n      <td>Aruba</td>\n      <td>2020-03-20</td>\n      <td>4</td>\n      <td>2</td>\n      <td>0</td>\n      <td>0</td>\n      <td>37.465</td>\n      <td>18.733</td>\n      <td>0.0</td>\n      <td>...</td>\n      <td>13.085</td>\n      <td>7.452</td>\n      <td>35973.781</td>\n      <td>NaN</td>\n      <td>NaN</td>\n      <td>11.62</td>\n      <td>NaN</td>\n      <td>NaN</td>\n      <td>NaN</td>\n      <td>NaN</td>\n    </tr>\n    <tr>\n      <td>2</td>\n      <td>ABW</td>\n      <td>Aruba</td>\n      <td>2020-03-24</td>\n      <td>12</td>\n      <td>8</td>\n      <td>0</td>\n      <td>0</td>\n      <td>112.395</td>\n      <td>74.930</td>\n      <td>0.0</td>\n      <td>...</td>\n      <td>13.085</td>\n      <td>7.452</td>\n      <td>35973.781</td>\n      <td>NaN</td>\n      <td>NaN</td>\n      <td>11.62</td>\n      <td>NaN</td>\n      <td>NaN</td>\n      <td>NaN</td>\n      <td>NaN</td>\n    </tr>\n    <tr>\n      <td>3</td>\n      <td>ABW</td>\n      <td>Aruba</td>\n      <td>2020-03-25</td>\n      <td>17</td>\n      <td>5</td>\n      <td>0</td>\n      <td>0</td>\n      <td>159.227</td>\n      <td>46.831</td>\n      <td>0.0</td>\n      <td>...</td>\n      <td>13.085</td>\n      <td>7.452</td>\n      <td>35973.781</td>\n      <td>NaN</td>\n      <td>NaN</td>\n      <td>11.62</td>\n      <td>NaN</td>\n      <td>NaN</td>\n      <td>NaN</td>\n      <td>NaN</td>\n    </tr>\n    <tr>\n      <td>4</td>\n      <td>ABW</td>\n      <td>Aruba</td>\n      <td>2020-03-26</td>\n      <td>19</td>\n      <td>2</td>\n      <td>0</td>\n      <td>0</td>\n      <td>177.959</td>\n      <td>18.733</td>\n      <td>0.0</td>\n      <td>...</td>\n      <td>13.085</td>\n      <td>7.452</td>\n      <td>35973.781</td>\n      <td>NaN</td>\n      <td>NaN</td>\n      <td>11.62</td>\n      <td>NaN</td>\n      <td>NaN</td>\n      <td>NaN</td>\n      <td>NaN</td>\n    </tr>\n  </tbody>\n</table>\n<p>5 rows × 32 columns</p>\n</div>"
     },
     "metadata": {},
     "execution_count": 4
    }
   ],
   "source": [
    "#To have a grasp on what the data about covid looks like\n",
    "covid = pd.read_csv('owid-covid-data.csv')\n",
    "covid.head()"
   ]
  },
  {
   "cell_type": "code",
   "execution_count": 8,
   "metadata": {},
   "outputs": [
    {
     "output_type": "execute_result",
     "data": {
      "text/plain": "(21396, 32)"
     },
     "metadata": {},
     "execution_count": 8
    }
   ],
   "source": [
    "#To know how many rows and columns are we dealing with\n",
    "covid.shape"
   ]
  },
  {
   "cell_type": "code",
   "execution_count": 7,
   "metadata": {},
   "outputs": [
    {
     "output_type": "execute_result",
     "data": {
      "text/plain": "Index(['iso_code', 'location', 'date', 'total_cases', 'new_cases',\n       'total_deaths', 'new_deaths', 'total_cases_per_million',\n       'new_cases_per_million', 'total_deaths_per_million',\n       'new_deaths_per_million', 'total_tests', 'new_tests',\n       'total_tests_per_thousand', 'new_tests_per_thousand',\n       'new_tests_smoothed', 'new_tests_smoothed_per_thousand', 'tests_units',\n       'stringency_index', 'population', 'population_density', 'median_age',\n       'aged_65_older', 'aged_70_older', 'gdp_per_capita', 'extreme_poverty',\n       'cvd_death_rate', 'diabetes_prevalence', 'female_smokers',\n       'male_smokers', 'handwashing_facilities', 'hospital_beds_per_100k'],\n      dtype='object')"
     },
     "metadata": {},
     "execution_count": 7
    }
   ],
   "source": [
    "covid.columns"
   ]
  },
  {
   "cell_type": "code",
   "execution_count": 9,
   "metadata": {},
   "outputs": [
    {
     "output_type": "execute_result",
     "data": {
      "text/plain": "United Kingdom    155\nAustria           155\nNetherlands       155\nBelgium           155\nGreece            155\n                 ... \nYemen              54\nWestern Sahara     38\nTajikistan         33\nComoros            32\nLesotho            19\nName: location, Length: 212, dtype: int64"
     },
     "metadata": {},
     "execution_count": 9
    }
   ],
   "source": [
    "#what countries are included in this dataset and how many dates has been recorded?\n",
    "covid['location'].value_counts()\n",
    "#Length = # of countries in this dataset"
   ]
  },
  {
   "cell_type": "code",
   "execution_count": 13,
   "metadata": {},
   "outputs": [
    {
     "output_type": "execute_result",
     "data": {
      "text/plain": "        total_cases      new_cases   total_deaths    new_deaths  \\\ncount  2.139600e+04   21396.000000   21396.000000  21396.000000   \nmean   2.085506e+04     583.786876    1363.667414     35.186670   \nstd    2.130015e+05    5185.498805   14146.345022    331.575652   \nmin    0.000000e+00   -2461.000000       0.000000  -1918.000000   \n25%    7.000000e+00       0.000000       0.000000      0.000000   \n50%    1.140000e+02       2.000000       2.000000      0.000000   \n75%    1.468000e+03      49.000000      32.000000      1.000000   \nmax    6.245352e+06  127796.000000  376427.000000  10520.000000   \n\n       total_cases_per_million  new_cases_per_million  \\\ncount             21011.000000           21011.000000   \nmean                571.227824              13.786919   \nstd                1600.153738              63.401774   \nmin                   0.000000            -265.189000   \n25%                   1.011500               0.000000   \n50%                  39.450000               0.305000   \n75%                 294.762000               6.357000   \nmax               20281.771000            4944.376000   \n\n       total_deaths_per_million  new_deaths_per_million   total_tests  \\\ncount              21011.000000            21011.000000  5.760000e+03   \nmean                  24.850056                0.562760  3.003000e+05   \nstd                   98.369096                3.464012  1.105118e+06   \nmin                    0.000000              -41.023000  1.000000e+00   \n25%                    0.000000                0.000000  1.005625e+04   \n50%                    0.294000                0.000000  5.155250e+04   \n75%                    5.718000                0.068000  1.859335e+05   \nmax                 1237.551000              200.040000  1.693689e+07   \n\n           new_tests  ...  aged_65_older  aged_70_older  gdp_per_capita  \\\ncount    5151.000000  ...   19173.000000   19339.000000    19162.000000   \nmean    11210.145991  ...       9.829165       6.256456    23014.323502   \nstd     37640.512689  ...       6.460364       4.435468    21304.517353   \nmin         1.000000  ...       1.144000       0.526000      661.240000   \n25%       606.000000  ...       3.941000       2.322000     6426.674000   \n50%      2081.000000  ...       7.724000       4.718000    15663.986000   \n75%      6813.500000  ...      15.322000       9.842000    35938.374000   \nmax    492276.000000  ...      27.049000      18.493000   116935.600000   \n\n       extreme_poverty  cvd_death_rate  diabetes_prevalence  female_smokers  \\\ncount     12709.000000    19356.000000         20069.000000    15715.000000   \nmean         10.340782      245.729796             8.011232       11.277854   \nstd          17.734862      118.901902             4.037434       10.565547   \nmin           0.100000       79.370000             0.990000        0.100000   \n25%           0.500000      151.089000             5.310000        1.900000   \n50%           1.500000      233.070000             7.110000        7.000000   \n75%          10.100000      311.110000            10.080000       19.800000   \nmax          77.600000      724.417000            23.360000       44.000000   \n\n       male_smokers  handwashing_facilities  hospital_beds_per_100k  \ncount  15543.000000             8503.000000            17824.000000  \nmean      32.638572               55.052022                3.219045  \nstd       13.224733               31.012020                2.603450  \nmin        7.700000                1.188000                0.100000  \n25%       21.400000               24.640000                1.400000  \n50%       31.400000               59.607000                2.600000  \n75%       40.800000               83.841000                4.280000  \nmax       78.100000               98.999000               13.800000  \n\n[8 rows x 28 columns]",
      "text/html": "<div>\n<style scoped>\n    .dataframe tbody tr th:only-of-type {\n        vertical-align: middle;\n    }\n\n    .dataframe tbody tr th {\n        vertical-align: top;\n    }\n\n    .dataframe thead th {\n        text-align: right;\n    }\n</style>\n<table border=\"1\" class=\"dataframe\">\n  <thead>\n    <tr style=\"text-align: right;\">\n      <th></th>\n      <th>total_cases</th>\n      <th>new_cases</th>\n      <th>total_deaths</th>\n      <th>new_deaths</th>\n      <th>total_cases_per_million</th>\n      <th>new_cases_per_million</th>\n      <th>total_deaths_per_million</th>\n      <th>new_deaths_per_million</th>\n      <th>total_tests</th>\n      <th>new_tests</th>\n      <th>...</th>\n      <th>aged_65_older</th>\n      <th>aged_70_older</th>\n      <th>gdp_per_capita</th>\n      <th>extreme_poverty</th>\n      <th>cvd_death_rate</th>\n      <th>diabetes_prevalence</th>\n      <th>female_smokers</th>\n      <th>male_smokers</th>\n      <th>handwashing_facilities</th>\n      <th>hospital_beds_per_100k</th>\n    </tr>\n  </thead>\n  <tbody>\n    <tr>\n      <td>count</td>\n      <td>2.139600e+04</td>\n      <td>21396.000000</td>\n      <td>21396.000000</td>\n      <td>21396.000000</td>\n      <td>21011.000000</td>\n      <td>21011.000000</td>\n      <td>21011.000000</td>\n      <td>21011.000000</td>\n      <td>5.760000e+03</td>\n      <td>5151.000000</td>\n      <td>...</td>\n      <td>19173.000000</td>\n      <td>19339.000000</td>\n      <td>19162.000000</td>\n      <td>12709.000000</td>\n      <td>19356.000000</td>\n      <td>20069.000000</td>\n      <td>15715.000000</td>\n      <td>15543.000000</td>\n      <td>8503.000000</td>\n      <td>17824.000000</td>\n    </tr>\n    <tr>\n      <td>mean</td>\n      <td>2.085506e+04</td>\n      <td>583.786876</td>\n      <td>1363.667414</td>\n      <td>35.186670</td>\n      <td>571.227824</td>\n      <td>13.786919</td>\n      <td>24.850056</td>\n      <td>0.562760</td>\n      <td>3.003000e+05</td>\n      <td>11210.145991</td>\n      <td>...</td>\n      <td>9.829165</td>\n      <td>6.256456</td>\n      <td>23014.323502</td>\n      <td>10.340782</td>\n      <td>245.729796</td>\n      <td>8.011232</td>\n      <td>11.277854</td>\n      <td>32.638572</td>\n      <td>55.052022</td>\n      <td>3.219045</td>\n    </tr>\n    <tr>\n      <td>std</td>\n      <td>2.130015e+05</td>\n      <td>5185.498805</td>\n      <td>14146.345022</td>\n      <td>331.575652</td>\n      <td>1600.153738</td>\n      <td>63.401774</td>\n      <td>98.369096</td>\n      <td>3.464012</td>\n      <td>1.105118e+06</td>\n      <td>37640.512689</td>\n      <td>...</td>\n      <td>6.460364</td>\n      <td>4.435468</td>\n      <td>21304.517353</td>\n      <td>17.734862</td>\n      <td>118.901902</td>\n      <td>4.037434</td>\n      <td>10.565547</td>\n      <td>13.224733</td>\n      <td>31.012020</td>\n      <td>2.603450</td>\n    </tr>\n    <tr>\n      <td>min</td>\n      <td>0.000000e+00</td>\n      <td>-2461.000000</td>\n      <td>0.000000</td>\n      <td>-1918.000000</td>\n      <td>0.000000</td>\n      <td>-265.189000</td>\n      <td>0.000000</td>\n      <td>-41.023000</td>\n      <td>1.000000e+00</td>\n      <td>1.000000</td>\n      <td>...</td>\n      <td>1.144000</td>\n      <td>0.526000</td>\n      <td>661.240000</td>\n      <td>0.100000</td>\n      <td>79.370000</td>\n      <td>0.990000</td>\n      <td>0.100000</td>\n      <td>7.700000</td>\n      <td>1.188000</td>\n      <td>0.100000</td>\n    </tr>\n    <tr>\n      <td>25%</td>\n      <td>7.000000e+00</td>\n      <td>0.000000</td>\n      <td>0.000000</td>\n      <td>0.000000</td>\n      <td>1.011500</td>\n      <td>0.000000</td>\n      <td>0.000000</td>\n      <td>0.000000</td>\n      <td>1.005625e+04</td>\n      <td>606.000000</td>\n      <td>...</td>\n      <td>3.941000</td>\n      <td>2.322000</td>\n      <td>6426.674000</td>\n      <td>0.500000</td>\n      <td>151.089000</td>\n      <td>5.310000</td>\n      <td>1.900000</td>\n      <td>21.400000</td>\n      <td>24.640000</td>\n      <td>1.400000</td>\n    </tr>\n    <tr>\n      <td>50%</td>\n      <td>1.140000e+02</td>\n      <td>2.000000</td>\n      <td>2.000000</td>\n      <td>0.000000</td>\n      <td>39.450000</td>\n      <td>0.305000</td>\n      <td>0.294000</td>\n      <td>0.000000</td>\n      <td>5.155250e+04</td>\n      <td>2081.000000</td>\n      <td>...</td>\n      <td>7.724000</td>\n      <td>4.718000</td>\n      <td>15663.986000</td>\n      <td>1.500000</td>\n      <td>233.070000</td>\n      <td>7.110000</td>\n      <td>7.000000</td>\n      <td>31.400000</td>\n      <td>59.607000</td>\n      <td>2.600000</td>\n    </tr>\n    <tr>\n      <td>75%</td>\n      <td>1.468000e+03</td>\n      <td>49.000000</td>\n      <td>32.000000</td>\n      <td>1.000000</td>\n      <td>294.762000</td>\n      <td>6.357000</td>\n      <td>5.718000</td>\n      <td>0.068000</td>\n      <td>1.859335e+05</td>\n      <td>6813.500000</td>\n      <td>...</td>\n      <td>15.322000</td>\n      <td>9.842000</td>\n      <td>35938.374000</td>\n      <td>10.100000</td>\n      <td>311.110000</td>\n      <td>10.080000</td>\n      <td>19.800000</td>\n      <td>40.800000</td>\n      <td>83.841000</td>\n      <td>4.280000</td>\n    </tr>\n    <tr>\n      <td>max</td>\n      <td>6.245352e+06</td>\n      <td>127796.000000</td>\n      <td>376427.000000</td>\n      <td>10520.000000</td>\n      <td>20281.771000</td>\n      <td>4944.376000</td>\n      <td>1237.551000</td>\n      <td>200.040000</td>\n      <td>1.693689e+07</td>\n      <td>492276.000000</td>\n      <td>...</td>\n      <td>27.049000</td>\n      <td>18.493000</td>\n      <td>116935.600000</td>\n      <td>77.600000</td>\n      <td>724.417000</td>\n      <td>23.360000</td>\n      <td>44.000000</td>\n      <td>78.100000</td>\n      <td>98.999000</td>\n      <td>13.800000</td>\n    </tr>\n  </tbody>\n</table>\n<p>8 rows × 28 columns</p>\n</div>"
     },
     "metadata": {},
     "execution_count": 13
    }
   ],
   "source": [
    "#Describe the data\n",
    "covid.describe()"
   ]
  },
  {
   "cell_type": "code",
   "execution_count": 14,
   "metadata": {},
   "outputs": [
    {
     "output_type": "execute_result",
     "data": {
      "text/plain": "iso_code                            True\nlocation                           False\ndate                               False\ntotal_cases                        False\nnew_cases                          False\ntotal_deaths                       False\nnew_deaths                         False\ntotal_cases_per_million             True\nnew_cases_per_million               True\ntotal_deaths_per_million            True\nnew_deaths_per_million              True\ntotal_tests                         True\nnew_tests                           True\ntotal_tests_per_thousand            True\nnew_tests_per_thousand              True\nnew_tests_smoothed                  True\nnew_tests_smoothed_per_thousand     True\ntests_units                         True\nstringency_index                    True\npopulation                          True\npopulation_density                  True\nmedian_age                          True\naged_65_older                       True\naged_70_older                       True\ngdp_per_capita                      True\nextreme_poverty                     True\ncvd_death_rate                      True\ndiabetes_prevalence                 True\nfemale_smokers                      True\nmale_smokers                        True\nhandwashing_facilities              True\nhospital_beds_per_100k              True\ndtype: bool"
     },
     "metadata": {},
     "execution_count": 14
    }
   ],
   "source": [
    "#Check if there are null values in the dataset\n",
    "covid.isna().any()"
   ]
  },
  {
   "cell_type": "code",
   "execution_count": 15,
   "metadata": {},
   "outputs": [
    {
     "output_type": "execute_result",
     "data": {
      "text/plain": "iso_code                              64\nlocation                               0\ndate                                   0\ntotal_cases                            0\nnew_cases                              0\ntotal_deaths                           0\nnew_deaths                             0\ntotal_cases_per_million              385\nnew_cases_per_million                385\ntotal_deaths_per_million             385\nnew_deaths_per_million               385\ntotal_tests                        15636\nnew_tests                          16245\ntotal_tests_per_thousand           15636\nnew_tests_per_thousand             16245\nnew_tests_smoothed                 15079\nnew_tests_smoothed_per_thousand    15079\ntests_units                        14481\nstringency_index                    4362\npopulation                            64\npopulation_density                   958\nmedian_age                          1959\naged_65_older                       2223\naged_70_older                       2057\ngdp_per_capita                      2234\nextreme_poverty                     8687\ncvd_death_rate                      2040\ndiabetes_prevalence                 1327\nfemale_smokers                      5681\nmale_smokers                        5853\nhandwashing_facilities             12893\nhospital_beds_per_100k              3572\ndtype: int64"
     },
     "metadata": {},
     "execution_count": 15
    }
   ],
   "source": [
    "#how many nullvalues are there in each column?\n",
    "covid.isna().sum()"
   ]
  },
  {
   "cell_type": "code",
   "execution_count": null,
   "metadata": {},
   "outputs": [],
   "source": []
  }
 ],
 "metadata": {
  "language_info": {
   "codemirror_mode": {
    "name": "ipython",
    "version": 3
   },
   "file_extension": ".py",
   "mimetype": "text/x-python",
   "name": "python",
   "nbconvert_exporter": "python",
   "pygments_lexer": "ipython3",
   "version": "3.7.4-final"
  },
  "orig_nbformat": 2,
  "kernelspec": {
   "name": "python3",
   "display_name": "Python 3"
  }
 },
 "nbformat": 4,
 "nbformat_minor": 2
}